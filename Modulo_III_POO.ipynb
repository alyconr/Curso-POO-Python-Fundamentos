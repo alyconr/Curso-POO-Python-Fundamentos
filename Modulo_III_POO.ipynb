{
 "cells": [
  {
   "cell_type": "markdown",
   "id": "f7dfde49",
   "metadata": {},
   "source": [
    "# MODULO III: METODOS MAGICOS Y MODIFICADORES DE ACCESO"
   ]
  },
  {
   "cell_type": "markdown",
   "id": "931fac9e",
   "metadata": {},
   "source": [
    "1. Metodos Magicos en Python\n",
    "\n",
    "Son metodos  especiales  con nombres que comienzan y terminan con doble guión  bajo (__metodo__). Python los llama automáticamente en momentos especificos.\n",
    "\n",
    "| MÉTODO      | FUNCIÓN                                                      |\n",
    "|-------------|--------------------------------------------------------------|\n",
    "| __init__()  | Constructor al crear el objeto                               |\n",
    "| __str__()   | Representación en forma de texto cuando se imprime el objeto|\n",
    "| __repr__()  | Representación para debugging                                |\n",
    "| __len__()   | Retorna la longitud con len(objeto)                          |\n",
    "| __eq__()    | Permite definir cuando dos objetos se consideran iguales    |\n"
   ]
  },
  {
   "cell_type": "markdown",
   "id": "66c602ed",
   "metadata": {},
   "source": [
    "2.  Metodo __str__()\n",
    "\n",
    "Se ejecuta automaticamente cuando usamos print(objeto) o str(objeto)"
   ]
  },
  {
   "cell_type": "code",
   "execution_count": 1,
   "id": "43d0603a",
   "metadata": {},
   "outputs": [
    {
     "name": "stdout",
     "output_type": "stream",
     "text": [
      "Producto: Manzana, Precio: 0.5\n"
     ]
    }
   ],
   "source": [
    "class Producto:\n",
    "    def __init__(self, nombre, precio):\n",
    "        self.nombre = nombre\n",
    "        self.precio = precio\n",
    "    \n",
    "    def __str__(self):\n",
    "        return f\"Producto: {self.nombre}, Precio: {self.precio}\"\n",
    "    def __repr__(self):\n",
    "        return f\"Producto({self.nombre}, {self.precio})\"\n",
    "    def __eq__(self, otro):\n",
    "        if isinstance(otro, Producto):\n",
    "            return self.nombre == otro.nombre and self.precio == otro.precio\n",
    "        return False\n",
    "    \n",
    "p1 = Producto(\"Manzana\", 0.5)\n",
    "\n",
    "print(p1)  # Producto: Manzana, Precio: 0.5"
   ]
  },
  {
   "cell_type": "markdown",
   "id": "85fd0914",
   "metadata": {},
   "source": [
    "3. Modificadores Acceso\n",
    "\n",
    "Python no tiene modificadores estrictos como **public**, **private**, o **protected** pero se utilizan estas convenciones:\n",
    "\n",
    "Notación           visibilidad            Ejemplo\n",
    "Pública             Libre acceso          self.nombre \n",
    "Protegida(_)       Convención de uso      self._nombre\n",
    "                   Interno\n",
    "Privada(__)        Acceso Restringido      self.__nombre"
   ]
  },
  {
   "cell_type": "code",
   "execution_count": 2,
   "id": "95c63248",
   "metadata": {},
   "outputs": [
    {
     "name": "stdout",
     "output_type": "stream",
     "text": [
      "12345678\n",
      "Juan\n",
      "4.5\n"
     ]
    }
   ],
   "source": [
    "class Alumno:\n",
    "    def __init__(self, cedula, nombre):\n",
    "        self.cedula = cedula # público\n",
    "        \n",
    "        self._nombre = nombre # protegido\n",
    "        \n",
    "        self.__nota = 4.5 # privado\n",
    "        \n",
    "    def obtener_nota(self):\n",
    "        return self.__nota\n",
    "\n",
    "a1 = Alumno(\"12345678\", \"Juan\")\n",
    "print(a1.cedula)  # 12345678\n",
    "print(a1._nombre)  # Juan\n",
    "print(a1.obtener_nota())  # 4.5 Acceso a la nota a través del método público\n",
    "\n"
   ]
  },
  {
   "cell_type": "markdown",
   "id": "8adcd1dc",
   "metadata": {},
   "source": [
    "4. Acceso desde otra clase"
   ]
  },
  {
   "cell_type": "code",
   "execution_count": 3,
   "id": "ca82e63a",
   "metadata": {},
   "outputs": [
    {
     "ename": "AttributeError",
     "evalue": "'Alumno' object has no attribute 'nombre'",
     "output_type": "error",
     "traceback": [
      "\u001b[31m---------------------------------------------------------------------------\u001b[39m",
      "\u001b[31mAttributeError\u001b[39m                            Traceback (most recent call last)",
      "\u001b[36mCell\u001b[39m\u001b[36m \u001b[39m\u001b[32mIn[3]\u001b[39m\u001b[32m, line 11\u001b[39m\n\u001b[32m      8\u001b[39m         \u001b[38;5;28mprint\u001b[39m(a.nombre)\n\u001b[32m     10\u001b[39m m = Materia(\u001b[33m\"\u001b[39m\u001b[33mMatemáticas\u001b[39m\u001b[33m\"\u001b[39m)\n\u001b[32m---> \u001b[39m\u001b[32m11\u001b[39m \u001b[43mm\u001b[49m\u001b[43m.\u001b[49m\u001b[43mconsultar_alumno\u001b[49m\u001b[43m(\u001b[49m\u001b[43m)\u001b[49m  \u001b[38;5;66;03m# Error: 'Alumno' object has no attribute 'nombre'\u001b[39;00m\n",
      "\u001b[36mCell\u001b[39m\u001b[36m \u001b[39m\u001b[32mIn[3]\u001b[39m\u001b[32m, line 8\u001b[39m, in \u001b[36mMateria.consultar_alumno\u001b[39m\u001b[34m(self)\u001b[39m\n\u001b[32m      6\u001b[39m \u001b[38;5;28;01mdef\u001b[39;00m\u001b[38;5;250m \u001b[39m\u001b[34mconsultar_alumno\u001b[39m(\u001b[38;5;28mself\u001b[39m):\n\u001b[32m      7\u001b[39m     a = Alumno(\u001b[33m\"\u001b[39m\u001b[33m12345678\u001b[39m\u001b[33m\"\u001b[39m, \u001b[33m\"\u001b[39m\u001b[33mJuan\u001b[39m\u001b[33m\"\u001b[39m)\n\u001b[32m----> \u001b[39m\u001b[32m8\u001b[39m     \u001b[38;5;28mprint\u001b[39m(\u001b[43ma\u001b[49m\u001b[43m.\u001b[49m\u001b[43mnombre\u001b[49m)\n",
      "\u001b[31mAttributeError\u001b[39m: 'Alumno' object has no attribute 'nombre'"
     ]
    }
   ],
   "source": [
    "class  Materia:\n",
    "    def __init__(self, nombre):\n",
    "        self.nombre = nombre\n",
    "    \n",
    "    \n",
    "    def consultar_alumno(self):\n",
    "        a = Alumno(\"12345678\", \"Juan\")\n",
    "        print(a.nombre)\n",
    "\n",
    "m = Materia(\"Matemáticas\")\n",
    "m.consultar_alumno()  # Error: 'Alumno' object has no attribute 'nombre'"
   ]
  },
  {
   "cell_type": "markdown",
   "id": "99a7a2a1",
   "metadata": {},
   "source": [
    "# ACTIVIDAD  PRACTICA DEL MODULO\n",
    "\n",
    "1. Crae una clase llamda Producto  con los atributos precio y nombre\n",
    "2. Marca Precio como atributo privado\n",
    "3. Implementar el metodo magico __str__() para retornar una descripcion del producto\n",
    "4. Agragar un metodo consultar_precio() para acceder al precio desde afuera de la clase\n",
    "5. Crear dos objetos y muestra sus detalles usando print(producto)"
   ]
  },
  {
   "cell_type": "markdown",
   "id": "58bd8219",
   "metadata": {},
   "source": []
  },
  {
   "cell_type": "code",
   "execution_count": null,
   "id": "a5d2544f",
   "metadata": {},
   "outputs": [
    {
     "name": "stdout",
     "output_type": "stream",
     "text": [
      "3000\n",
      "2000\n",
      "Producto: Manzana, Precio: 2000\n",
      "Producto: Banano, Precio: 3000\n"
     ]
    }
   ],
   "source": []
  }
 ],
 "metadata": {
  "kernelspec": {
   "display_name": "Python 3",
   "language": "python",
   "name": "python3"
  },
  "language_info": {
   "codemirror_mode": {
    "name": "ipython",
    "version": 3
   },
   "file_extension": ".py",
   "mimetype": "text/x-python",
   "name": "python",
   "nbconvert_exporter": "python",
   "pygments_lexer": "ipython3",
   "version": "3.13.1"
  }
 },
 "nbformat": 4,
 "nbformat_minor": 5
}

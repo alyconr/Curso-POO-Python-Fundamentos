{
 "cells": [
  {
   "cell_type": "markdown",
   "metadata": {},
   "source": [
    "# ATRIBUTOS Y METODOS DE CLASE  ESTATICOS"
   ]
  },
  {
   "cell_type": "code",
   "execution_count": 1,
   "metadata": {},
   "outputs": [
    {
     "name": "stdout",
     "output_type": "stream",
     "text": [
      "Juan\n",
      "Manizales\n"
     ]
    }
   ],
   "source": [
    "class Persona:\n",
    "    ciudad = \"Manizales\"  # Atributo de Clase\n",
    "    \n",
    "    def __init__(self, nombre, edad):\n",
    "        self.nombre = nombre # Atributo de Instancia\n",
    "        self.edad = edad     # Atributo de Instancia\n",
    "\n",
    "p1 = Persona(\"Juan\", 25)\n",
    "print(p1.nombre)  # Accede a la instancia\n",
    "\n",
    "print(p1.ciudad) # Accede al atributo de clase"
   ]
  },
  {
   "cell_type": "markdown",
   "metadata": {},
   "source": [
    "## Metodos de Clase (@classmethod)\n",
    "\n",
    "Acceder a los atributos de clase y se declaran con el decorador @classmethod.\n",
    "Reciben como primer parametro cls"
   ]
  },
  {
   "cell_type": "code",
   "execution_count": 2,
   "metadata": {},
   "outputs": [
    {
     "name": "stdout",
     "output_type": "stream",
     "text": [
      "Villavicencio\n"
     ]
    }
   ],
   "source": [
    "class Persona:\n",
    "    ciudad = \"Manizales\"  # Atributo de Clase\n",
    "    \n",
    "    def __init__(self, nombre, edad):\n",
    "        self.nombre = nombre # Atributo de Instancia\n",
    "        self.edad = edad     # Atributo de Instancia\n",
    "        \n",
    "    @classmethod\n",
    "    def cambiar_ciudad(cls, ciudad):\n",
    "        cls.ciudad = ciudad  # Cambia el atributo de clase\n",
    "        \n",
    "\n",
    "Persona.cambiar_ciudad(\"Villavicencio\")\n",
    "print(Persona.ciudad)"
   ]
  },
  {
   "cell_type": "markdown",
   "metadata": {},
   "source": [
    "## 3. METODOS  ESTATICOS (@estaticmethod)"
   ]
  },
  {
   "cell_type": "markdown",
   "metadata": {},
   "source": [
    "No acceden ni a la instancia(self) ni a la clase(cls) Son funciones utilitarias que estan relacionadas conceptualmente con la clase"
   ]
  },
  {
   "cell_type": "code",
   "execution_count": 9,
   "metadata": {},
   "outputs": [
    {
     "name": "stdout",
     "output_type": "stream",
     "text": [
      "Hoy es un día normal\n"
     ]
    }
   ],
   "source": [
    "import random\n",
    "\n",
    "class Persona:\n",
    "    def __init__(self, nombre, edad):\n",
    "        self.nombre = nombre\n",
    "        self.edad = edad\n",
    "    \n",
    "    @staticmethod\n",
    "    def mensaje_hoy():\n",
    "        mensajes = [\n",
    "            \"Hoy es un gran día\",\n",
    "            \"Hoy es un día normal\",\n",
    "            \"Hoy es un día aburrido\"\n",
    "        ]\n",
    "        return random.choice(mensajes)\n",
    "\n",
    "print(Persona.mensaje_hoy())"
   ]
  },
  {
   "cell_type": "markdown",
   "metadata": {},
   "source": [
    "# ACTIVIDAD PRACTICA DEL MODULO"
   ]
  },
  {
   "cell_type": "markdown",
   "metadata": {},
   "source": [
    "1. Crea una clase llamada Estudiante\n",
    "2. Agrega un atributo de clase llamado **institucion** con el valor **SENA**\n",
    "3. Define los atributos de instancia **nombre** y **edad**\n",
    "4. Crea un método de clase llamado cambiar_institución() que permita modificar el valor de intitución.\n",
    "5. Crea un método estático llamado mensaje_motivador() que imprima un mensaje positivo\n",
    "6. Crea varios objetos y verifica como cambian los valores del atributo de clase al modificarlo desde un método de clase."
   ]
  },
  {
   "cell_type": "code",
   "execution_count": 4,
   "metadata": {},
   "outputs": [
    {
     "name": "stdout",
     "output_type": "stream",
     "text": [
      "Nombre: Ana, Edad: 20, Universidad: SENA\n",
      "Nombre: Luis, Edad: 22, Universidad: SENA\n",
      "Nombre: Ana, Edad: 20, Universidad: Universidad Nacional\n",
      "Nombre: Luis, Edad: 22, Universidad: Universidad Nacional\n",
      "¡Sigue adelante! El esfuerzo siempre trae grandes resultados.\n"
     ]
    }
   ],
   "source": [
    "class Estudiante:\n",
    "    institucion = \"SENA\"  # Atributo de clase\n",
    "    \n",
    "    def __init__(self, nombre, edad):\n",
    "        self.nombre = nombre\n",
    "        self.edad = edad\n",
    "    \n",
    "    @classmethod\n",
    "    def cambiar_institucion(cls, nueva_institucion):\n",
    "        cls.institucion = nueva_institucion  # Modifica atributo de clase\n",
    "    \n",
    "    @staticmethod\n",
    "    def mensaje_motivador():\n",
    "        print(\"¡Sigue adelante! El esfuerzo siempre trae grandes resultados.\")\n",
    "\n",
    "# Crear objetos\n",
    "est1 = Estudiante(\"Ana\", 20)\n",
    "est2 = Estudiante(\"Luis\", 22)\n",
    "\n",
    "# Mostrar datos de cada estudiante con formato\n",
    "print(f\"Nombre: {est1.nombre}, Edad: {est1.edad}, Universidad: {est1.institucion}\")\n",
    "print(f\"Nombre: {est2.nombre}, Edad: {est2.edad}, Universidad: {est2.institucion}\")\n",
    "\n",
    "\n",
    "Estudiante.cambiar_institucion(\"Universidad Nacional\")\n",
    "\n",
    "# Mostrar datos después del cambio\n",
    "print(f\"Nombre: {est1.nombre}, Edad: {est1.edad}, Universidad: {est1.institucion}\")\n",
    "print(f\"Nombre: {est2.nombre}, Edad: {est2.edad}, Universidad: {est2.institucion}\")\n",
    "\n",
    "Estudiante.mensaje_motivador()\n"
   ]
  }
 ],
 "metadata": {
  "kernelspec": {
   "display_name": "Python 3",
   "language": "python",
   "name": "python3"
  },
  "language_info": {
   "codemirror_mode": {
    "name": "ipython",
    "version": 3
   },
   "file_extension": ".py",
   "mimetype": "text/x-python",
   "name": "python",
   "nbconvert_exporter": "python",
   "pygments_lexer": "ipython3",
   "version": "3.12.1"
  }
 },
 "nbformat": 4,
 "nbformat_minor": 2
}

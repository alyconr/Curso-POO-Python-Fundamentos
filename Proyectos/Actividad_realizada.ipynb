{
 "cells": [
  {
   "cell_type": "markdown",
   "metadata": {},
   "source": [
    "# PROYECTO MINI SISTEMA ACADEMICO CON POO\n",
    "\n",
    "## Objetivo\n",
    "\n",
    "Aplicar de forma integral los conceptos de clases, objetos, atributos, metodos, encapsulamiento y metodos especiales para crear un sistema simple de gestión de estudiantes, materias y calificaciones"
   ]
  },
  {
   "cell_type": "markdown",
   "metadata": {},
   "source": [
    "1. ETRUCTURA DEL SISTEMA\n",
    "\n",
    "| CLASE | ATRIBUTOS | MÉTODOS PRINCIPALES |\n",
    "|-------|-----------|-------------------|\n",
    "| Alumno | cedula, nombre, edad, nota | puede_votar(), obtener_calificacion() |\n",
    "| Materia | nombre, creditos, docente | asignar_alumno(), listar_estudiantes() |\n",
    "| Sistema | materias(lista) | crear_materia(), ver_materias() |"
   ]
  },
  {
   "cell_type": "markdown",
   "metadata": {},
   "source": [
    "2. Requisitos funcionales\n",
    "\n",
    "* Registrar alumnos y asignarlos a materias\n",
    "* Listar los estudiantes de una materia\n",
    "* Consultar si un alumno aprueba la materia\n",
    "* Simular si puede votar por su edad\n",
    "* Mostrar resumen por alumno y por materia"
   ]
  },
  {
   "cell_type": "markdown",
   "metadata": {},
   "source": [
    "## ENUNCIADO\n",
    "\n",
    "1. Define una clase ALumno con atributos privados y metodos públicos(get,set,__str__)\n",
    "2. Define una clase Materia que pueda contener multiples objetos Alumno\n",
    "3. Agrega funcionalidad para agregar alumnos a una materia\n",
    "4. Implementa una clase SistemaAcademico que administre múltiples materias\n",
    "5. Muestra toda la información de alumnos por materia"
   ]
  },
  {
   "cell_type": "code",
   "execution_count": 15,
   "metadata": {},
   "outputs": [
    {
     "name": "stdout",
     "output_type": "stream",
     "text": [
      "Materia: Matemáticas, Créditos: 3, Docente: Prof. Ana Torres\n",
      "Jhoan Peñaloza, Cédula: 51286204, Edad: 17, Nota: 4.0, Puede votar: No, Calificación: Aprobado\n",
      "Laura Martinez, Cédula: 69389606, Edad: 19, Nota: 3.4, Puede votar: Sí, Calificación: Reprobado\n",
      "Materia: Español, Créditos: 4, Docente: Prof. Andres Torres\n",
      "Jhoan Peñaloza, Cédula: 51286204, Edad: 17, Nota: 4.0, Puede votar: No, Calificación: Aprobado\n",
      "\n",
      "Listado de alumnos en Matemáticas:\n",
      "Jhoan Peñaloza, Cédula: 51286204, Edad: 17, Nota: 4.0, Puede votar: No, Calificación: Aprobado\n",
      "Laura Martinez, Cédula: 69389606, Edad: 19, Nota: 3.4, Puede votar: Sí, Calificación: Reprobado\n",
      "\n",
      "Listado de alumnos en Español:\n",
      "Jhoan Peñaloza, Cédula: 51286204, Edad: 17, Nota: 4.0, Puede votar: No, Calificación: Aprobado\n"
     ]
    }
   ],
   "source": [
    "class Alumno:\n",
    "    def __init__(self, nombre, cedula, edad, nota):\n",
    "        self.__nombre = nombre\n",
    "        self.__cedula = cedula\n",
    "        self.__edad = edad\n",
    "        self.__nota = nota\n",
    "\n",
    "    def puede_votar(self):\n",
    "        return self.__edad >= 18\n",
    "\n",
    "    def obtener_calificacion(self):\n",
    "        return \"Aprobado\" if self.__nota >= 3.5 else \"Reprobado\"\n",
    "\n",
    "    def get_nombre(self):\n",
    "        return self.__nombre\n",
    "\n",
    "    def get_cedula(self):\n",
    "        return self.__cedula\n",
    "\n",
    "    def get_edad(self):\n",
    "        return self.__edad\n",
    "\n",
    "    def __str__(self):\n",
    "        return f\"{self.__nombre}, Cédula: {self.__cedula}, Edad: {self.__edad}, Nota: {self.__nota}, Puede votar: {'Sí' if self.puede_votar() else 'No'}, Calificación: {self.obtener_calificacion()}\"\n",
    "\n",
    "class Materia:\n",
    "    def __init__(self, nombre, creditos, docente):\n",
    "        self.__nombre = nombre\n",
    "        self.__creditos = creditos\n",
    "        self.__docente = docente\n",
    "        self.__alumnos = []\n",
    "\n",
    "    def asignar_alumno(self, alumno):\n",
    "        self.__alumnos.append(alumno)\n",
    "\n",
    "    def listar_estudiantes(self):\n",
    "        for alumno in self.__alumnos:\n",
    "            print(alumno)\n",
    "\n",
    "    def __str__(self):\n",
    "        return f\"Materia: {self.__nombre}, Créditos: {self.__creditos}, Docente: {self.__docente}\"\n",
    "\n",
    "class SistemaAcademico:\n",
    "    def __init__(self):\n",
    "        self.__materias = []\n",
    "\n",
    "    def agregar_materia(self, materia):\n",
    "        self.__materias.append(materia)\n",
    "\n",
    "    def ver_materias(self):\n",
    "        for materia in self.__materias:\n",
    "            print(materia)\n",
    "            materia.listar_estudiantes()\n",
    "\n",
    "# Creando un objeto del sistema académico\n",
    "sistema = SistemaAcademico()\n",
    "\n",
    "# Creando materias\n",
    "materia1 = Materia(\"Matemáticas\", 3, \"Prof. Ana Torres\")\n",
    "materia2 = Materia(\"Español\", 4, \"Prof. Andres Torres\")\n",
    "\n",
    "# Agregar materias al sistema académico\n",
    "sistema.agregar_materia(materia1)\n",
    "sistema.agregar_materia(materia2)\n",
    "\n",
    "# Creando alumnos\n",
    "alumno1 = Alumno(\"Jhoan Peñaloza\", \"51286204\", 17, 4.0)\n",
    "alumno2 = Alumno(\"Laura Martinez\", \"69389606\", 19, 3.4)\n",
    "\n",
    "# Asignar alumnos a materias\n",
    "materia1.asignar_alumno(alumno1)\n",
    "materia1.asignar_alumno(alumno2)\n",
    "materia2.asignar_alumno(alumno1)\n",
    "\n",
    "# Ver las materias en el sistema académico\n",
    "sistema.ver_materias()\n",
    "print(\"\\nListado de alumnos en Matemáticas:\")\n",
    "materia1.listar_estudiantes()\n",
    "print(\"\\nListado de alumnos en Español:\")\n",
    "materia2.listar_estudiantes()"
   ]
  },
  {
   "cell_type": "markdown",
   "metadata": {},
   "source": []
  }
 ],
 "metadata": {
  "kernelspec": {
   "display_name": "Python 3",
   "language": "python",
   "name": "python3"
  },
  "language_info": {
   "codemirror_mode": {
    "name": "ipython",
    "version": 3
   },
   "file_extension": ".py",
   "mimetype": "text/x-python",
   "name": "python",
   "nbconvert_exporter": "python",
   "pygments_lexer": "ipython3",
   "version": "3.13.2"
  }
 },
 "nbformat": 4,
 "nbformat_minor": 2
}

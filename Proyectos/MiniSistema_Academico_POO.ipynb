{
 "cells": [
  {
   "cell_type": "markdown",
   "metadata": {},
   "source": [
    "# PROYECTO MINI SISTEMA ACADEMICO CON POO\n",
    "\n",
    "## Objetivo\n",
    "\n",
    "Aplicar de forma integral los conceptos de clases, objetos, atributos, metodos, encapsulamiento y metodos especiales para crear un sistema simple de gestión de estudiantes, materias y calificaciones"
   ]
  },
  {
   "cell_type": "markdown",
   "metadata": {},
   "source": [
    "1. ETRUCTURA DEL SISTEMA\n",
    "\n",
    "| CLASE | ATRIBUTOS | MÉTODOS PRINCIPALES |\n",
    "|-------|-----------|-------------------|\n",
    "| Alumno | cedula, nombre, edad, nota | puede_votar(), obtener_calificacion() |\n",
    "| Materia | nombre, creditos, docente | asignar_alumno(), listar_estudiantes() |\n",
    "| Sistema | materias(lista) | crear_materia(), ver_materias() |"
   ]
  },
  {
   "cell_type": "markdown",
   "metadata": {},
   "source": [
    "2. Requisitos funcionales\n",
    "\n",
    "* Registrar alumnos y asignarlos a materias\n",
    "* Listar los estudiantes de una materia\n",
    "* Consultar si un alumno aprueba la materia\n",
    "* Simular si puede votar por su edad\n",
    "* Mostrar resumen por alumno y por materia"
   ]
  },
  {
   "cell_type": "markdown",
   "metadata": {},
   "source": [
    "## ENUNCIADO\n",
    "\n",
    "1. Define una clase ALumno con atributos privados y metodos públicos(get,set,__str__)\n",
    "2. Define una clase Materia que pueda contener multiples objetos Alumno\n",
    "3. Agrega funcionalidad para agregar alumnos a una materia\n",
    "4. Implementa una clase SistemaAcademico que administre múltiples materias\n",
    "5. Muestra toda la información de alumnos por materia"
   ]
  },
  {
   "cell_type": "markdown",
   "metadata": {},
   "source": [
    "SOLUCION ANDRES SANTIAGO SALAS CHAVEZ FICHA 3147251"
   ]
  },
  {
   "cell_type": "code",
   "execution_count": 1,
   "metadata": {},
   "outputs": [],
   "source": [
    "# Clase Alumno\n",
    "class Alumno:\n",
    "    def __init__(self, cedula, nombre, edad, nota):\n",
    "        self.__cedula = cedula\n",
    "        self.__nombre = nombre\n",
    "        self.__edad = edad\n",
    "        self.__nota = nota\n",
    "\n",
    "    # Métodos Get y Set\n",
    "    def get_cedula(self):\n",
    "        return self.__cedula\n",
    "\n",
    "    def get_nombre(self):\n",
    "        return self.__nombre\n",
    "\n",
    "    def get_edad(self):\n",
    "        return self.__edad\n",
    "\n",
    "    def get_nota(self):\n",
    "        return self.__nota\n",
    "\n",
    "    def set_nota(self, nueva_nota):\n",
    "        self.__nota = nueva_nota\n",
    "\n",
    "    def puede_votar(self):\n",
    "        return self.__edad >= 18\n",
    "\n",
    "    def obtener_calificacion(self):\n",
    "        return \"Aprobado\" if self.__nota >= 3.0 else \"Reprobado\"\n",
    "\n",
    "    def __str__(self):\n",
    "        return f\"{self.__nombre} (Cédula: {self.__cedula}, Edad: {self.__edad}, Nota: {self.__nota}, Estado: {self.obtener_calificacion()}, Puede votar: {'Sí' if self.puede_votar() else 'No'})\"\n",
    "\n",
    "\n",
    "# Clase Materia\n",
    "class Materia:\n",
    "    def __init__(self, nombre, creditos, docente):\n",
    "        self.nombre = nombre\n",
    "        self.creditos = creditos\n",
    "        self.docente = docente\n",
    "        self.alumnos = []\n",
    "\n",
    "    def asignar_alumno(self, alumno):\n",
    "        self.alumnos.append(alumno)\n",
    "\n",
    "    def listar_estudiantes(self):\n",
    "        for alumno in self.alumnos:\n",
    "            print(alumno)\n",
    "\n",
    "    def __str__(self):\n",
    "        return f\"Materia: {self.nombre} (Créditos: {self.creditos}, Docente: {self.docente})\"\n",
    "\n",
    "\n",
    "# Clase SistemaAcademico\n",
    "class SistemaAcademico:\n",
    "    def __init__(self):\n",
    "        self.materias = []\n",
    "\n",
    "    def crear_materia(self, nombre, creditos, docente):\n",
    "        materia = Materia(nombre, creditos, docente)\n",
    "        self.materias.append(materia)\n",
    "\n",
    "    def ver_materias(self):\n",
    "        for i, materia in enumerate(self.materias):\n",
    "            print(f\"{i+1}. {materia}\")\n",
    "\n",
    "    def asignar_alumno_a_materia(self, index_materia, alumno):\n",
    "        if 0 <= index_materia < len(self.materias):\n",
    "            self.materias[index_materia].asignar_alumno(alumno)\n",
    "        else:\n",
    "            print(\"Índice de materia no válido.\")\n",
    "\n",
    "    def mostrar_informacion(self):\n",
    "        for materia in self.materias:\n",
    "            print(f\"\\n{materia}\")\n",
    "            materia.listar_estudiantes()"
   ]
  },
  {
   "cell_type": "code",
   "execution_count": null,
   "metadata": {},
   "outputs": [],
   "source": [
    "# Crear sistema\n",
    "sistema = SistemaAcademico()\n",
    "\n",
    "# Crear materias\n",
    "sistema.crear_materia(\"Matemáticas\", 4, \"Profesor Juan\")\n",
    "sistema.crear_materia(\"Historia\", 3, \"Profesora María\")\n",
    "\n",
    "# Crear alumnos\n",
    "alumno1 = Alumno(\"123\", \"Carlos\", 17, 3.5)\n",
    "alumno2 = Alumno(\"456\", \"Lucía\", 19, 2.8)\n",
    "alumno3 = Alumno(\"789\", \"Pedro\", 20, 4.0)\n",
    "\n",
    "# Asignar alumnos a materias\n",
    "sistema.asignar_alumno_a_materia(0, alumno1)\n",
    "sistema.asignar_alumno_a_materia(0, alumno2)\n",
    "sistema.asignar_alumno_a_materia(1, alumno3)\n",
    "\n",
    "# Ver información\n",
    "sistema.ver_materias()\n",
    "sistema.mostrar_informacion()"
   ]
  }
 ],
 "metadata": {
  "kernelspec": {
   "display_name": "Python 3",
   "language": "python",
   "name": "python3"
  },
  "language_info": {
   "codemirror_mode": {
    "name": "ipython",
    "version": 3
   },
   "file_extension": ".py",
   "mimetype": "text/x-python",
   "name": "python",
   "nbconvert_exporter": "python",
   "pygments_lexer": "ipython3",
   "version": "3.12.5"
  }
 },
 "nbformat": 4,
 "nbformat_minor": 2
}

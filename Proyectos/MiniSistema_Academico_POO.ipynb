{
 "cells": [
  {
   "cell_type": "markdown",
   "metadata": {},
   "source": [
    "# PROYECTO MINI SISTEMA ACADEMICO CON POO\n",
    "\n",
    "## Objetivo\n",
    "\n",
    "Aplicar de forma integral los conceptos de clases, objetos, atributos, metodos, encapsulamiento y metodos especiales para crear un sistema simple de gestión de estudiantes, materias y calificaciones"
   ]
  },
  {
   "cell_type": "markdown",
   "metadata": {},
   "source": [
    "1. ETRUCTURA DEL SISTEMA\n",
    "\n",
    "| CLASE | ATRIBUTOS | MÉTODOS PRINCIPALES |\n",
    "|-------|-----------|-------------------|\n",
    "| Alumno | cedula, nombre, edad, nota | puede_votar(), obtener_calificacion() |\n",
    "| Materia | nombre, creditos, docente | asignar_alumno(), listar_estudiantes() |\n",
    "| Sistema | materias(lista) | crear_materia(), ver_materias() |"
   ]
  },
  {
   "cell_type": "markdown",
   "metadata": {},
   "source": [
    "2. Requisitos funcionales\n",
    "\n",
    "* Registrar alumnos y asignarlos a materias\n",
    "* Listar los estudiantes de una materia\n",
    "* Consultar si un alumno aprueba la materia\n",
    "* Simular si puede votar por su edad\n",
    "* Mostrar resumen por alumno y por materia"
   ]
  },
  {
   "cell_type": "markdown",
   "metadata": {},
   "source": []
  },
  {
   "cell_type": "code",
   "execution_count": 13,
   "metadata": {},
   "outputs": [
    {
     "name": "stdout",
     "output_type": "stream",
     "text": [
      "Estudiantes de Matemáticas:\n",
      "Ana (Cédula: 123, Edad: 20, Nota: 8.5)\n",
      "Luis (Cédula: 456, Edad: 17, Nota: 6.0)\n",
      "Ana puede votar: True\n",
      "Luis calificación: Reprobado\n",
      "\n",
      "Materias registradas:\n",
      "Matemáticas (Créditos: 5, Docente: Prof. Pérez)\n",
      "Historia (Créditos: 3, Docente: Prof. Gómez)\n"
     ]
    }
   ],
   "source": [
    "class Alumno:\n",
    "    def __init__(self, cedula, nombre, edad, nota):\n",
    "        self.cedula = cedula\n",
    "        self.nombre = nombre\n",
    "        self.edad = edad\n",
    "        self.nota = nota\n",
    "\n",
    "    def puede_votar(self):\n",
    "        return self.edad >= 18\n",
    "\n",
    "    def obtener_calificacion(self):\n",
    "        return \"Aprobado\" if self.nota >= 7 else \"Reprobado\"\n",
    "\n",
    "    def __str__(self):\n",
    "        return f\"{self.nombre} (Cédula: {self.cedula}, Edad: {self.edad}, Nota: {self.nota})\"\n",
    "    \n",
    "class Materia:\n",
    "    def __init__(self, nombre, creditos, docente):\n",
    "        self.nombre = nombre\n",
    "        self.creditos = creditos\n",
    "        self.docente = docente\n",
    "        self.estudiantes = []\n",
    "\n",
    "    def asignar_alumno(self, alumno):\n",
    "        self.estudiantes.append(alumno)\n",
    "\n",
    "    def listar_estudiantes(self):\n",
    "        for alumno in self.estudiantes:\n",
    "            print(alumno)\n",
    "\n",
    "    def __str__(self):\n",
    "        return f\"{self.nombre} (Créditos: {self.creditos}, Docente: {self.docente})\"\n",
    "\n",
    "class Sistema:\n",
    "    def __init__(self):\n",
    "        self.materias = []\n",
    "\n",
    "    def crear_materia(self, nombre, creditos, docente):\n",
    "        materia = Materia(nombre, creditos, docente)\n",
    "        self.materias.append(materia)\n",
    "        return materia\n",
    "\n",
    "    def ver_materias(self):\n",
    "        for materia in self.materias:\n",
    "            print(materia)\n",
    "    \n",
    "# Crear sistema\n",
    "sistema = Sistema()\n",
    "\n",
    "# Crear materias\n",
    "mat1 = sistema.crear_materia(\"Matemáticas\", 5, \"Prof. Pérez\")\n",
    "mat2 = sistema.crear_materia(\"Historia\", 3, \"Prof. Gómez\")\n",
    "\n",
    "# Crear alumnos\n",
    "al1 = Alumno(\"123\", \"Ana\", 20, 8.5)\n",
    "al2 = Alumno(\"456\", \"Luis\", 17, 6.0)\n",
    "al3 = Alumno(\"789\", \"Sofía\", 19, 7.2)\n",
    "\n",
    "# Asignar alumnos a materias\n",
    "mat1.asignar_alumno(al1)\n",
    "mat1.asignar_alumno(al2)\n",
    "mat2.asignar_alumno(al3)\n",
    "\n",
    "# Listar estudiantes de Matemáticas\n",
    "print(\"Estudiantes de Matemáticas:\")\n",
    "mat1.listar_estudiantes()\n",
    "\n",
    "# Consultar si un alumno aprueba y puede votar\n",
    "print(f\"{al1.nombre} puede votar: {al1.puede_votar()}\")\n",
    "print(f\"{al2.nombre} calificación: {al2.obtener_calificacion()}\")\n",
    "\n",
    "# Mostrar resumen por materia\n",
    "print(\"\\nMaterias registradas:\")\n",
    "sistema.ver_materias()"
   ]
  }
 ],
 "metadata": {
  "kernelspec": {
   "display_name": "Python 3",
   "language": "python",
   "name": "python3"
  },
  "language_info": {
   "codemirror_mode": {
    "name": "ipython",
    "version": 3
   },
   "file_extension": ".py",
   "mimetype": "text/x-python",
   "name": "python",
   "nbconvert_exporter": "python",
   "pygments_lexer": "ipython3",
   "version": "3.13.3"
  }
 },
 "nbformat": 4,
 "nbformat_minor": 2
}

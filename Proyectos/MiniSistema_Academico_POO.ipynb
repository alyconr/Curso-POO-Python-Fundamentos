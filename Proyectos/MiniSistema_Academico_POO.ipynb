{
 "cells": [
  {
   "cell_type": "markdown",
   "metadata": {},
   "source": [
    "# PROYECTO MINI SISTEMA ACADEMICO CON POO\n",
    "\n",
    "## Objetivo\n",
    "\n",
    "Aplicar de forma integral los conceptos de clases, objetos, atributos, metodos, encapsulamiento y metodos especiales para crear un sistema simple de gestión de estudiantes, materias y calificaciones"
   ]
  },
  {
   "cell_type": "markdown",
   "metadata": {},
   "source": [
    "1. ETRUCTURA DEL SISTEMA\n",
    "\n",
    "| CLASE | ATRIBUTOS | MÉTODOS PRINCIPALES |\n",
    "|-------|-----------|-------------------|\n",
    "| Alumno | cedula, nombre, edad, nota | puede_votar(), obtener_calificacion() |\n",
    "| Materia | nombre, creditos, docente | asignar_alumno(), listar_estudiantes() |\n",
    "| Sistema | materias(lista) | crear_materia(), ver_materias() |"
   ]
  },
  {
   "cell_type": "markdown",
   "metadata": {},
   "source": [
    "2. Requisitos funcionales\n",
    "\n",
    "* Registrar alumnos y asignarlos a materias\n",
    "* Listar los estudiantes de una materia\n",
    "* Consultar si un alumno aprueba la materia\n",
    "* Simular si puede votar por su edad\n",
    "* Mostrar resumen por alumno y por materia"
   ]
  },
  {
   "cell_type": "markdown",
   "metadata": {},
   "source": [
    "## ENUNCIADO\n",
    "\n",
    "1. Define una clase ALumno con atributos privados y metodos públicos(get,set,__str__)\n",
    "2. Define una clase Materia que pueda contener multiples objetos Alumno\n",
    "3. Agrega funcionalidad para agregar alumnos a una materia\n",
    "4. Implementa una clase SistemaAcademico que administre múltiples materias\n",
    "5. Muestra toda la información de alumnos por materia"
   ]
  },
  {
   "cell_type": "code",
   "execution_count": null,
   "metadata": {
    "vscode": {
     "languageId": "plaintext"
    }
   },
   "outputs": [],
   "source": [
    "class Alumno:\n",
    "    def __init__(self, cedula, nombre, edad, nota):\n",
    "        self.__cedula = cedula\n",
    "        self.__nombre = nombre\n",
    "        self.__edad = edad\n",
    "        self.__nota = nota\n",
    "\n",
    "    def get_cedula(self):\n",
    "        return self.__cedula\n",
    "\n",
    "    def get_nombre(self):\n",
    "        return self.__nombre\n",
    "\n",
    "    def get_edad(self):\n",
    "        return self.__edad\n",
    "\n",
    "    def get_nota(self):\n",
    "        return self.__nota\n",
    "\n",
    "    def set_nota(self, nueva_nota):\n",
    "        self.__nota = nueva_nota\n",
    "\n",
    "    def __str__(self):\n",
    "        return f\"{self.__nombre} - Edad: {self.__edad}, Nota: {self.__nota}\"\n",
    "\n",
    "    def puede_votar(self):\n",
    "        return self.__edad >= 18\n",
    "\n",
    "    def obtener_calificacion(self):\n",
    "        return \"Aprobado\" if self.__nota >= 3 else \"Reprobado\"\n",
    "\n",
    "\n",
    "class Materia:\n",
    "    def __init__(self, nombre, creditos, docente):\n",
    "        self.nombre = nombre\n",
    "        self.creditos = creditos\n",
    "        self.docente = docente\n",
    "        self.alumnos = []\n",
    "\n",
    "    def asignar_alumno(self, alumno):\n",
    "        self.alumnos.append(alumno)\n",
    "\n",
    "    def listar_estudiantes(self):\n",
    "        for alumno in self.alumnos:\n",
    "            print(alumno)\n",
    "\n",
    "\n",
    "class SistemaAcademico:\n",
    "    def __init__(self):\n",
    "        self.materias = []\n",
    "\n",
    "    def crear_materia(self, nombre, creditos, docente):\n",
    "        nueva_materia = Materia(nombre, creditos, docente)\n",
    "        self.materias.append(nueva_materia)\n",
    "        return nueva_materia\n",
    "\n",
    "    def ver_materias(self):\n",
    "        for materia in self.materias:\n",
    "            print(f\"{materia.nombre} - Docente: {materia.docente}\")\n",
    "\n",
    "\n",
    "def mostrar_resumen(sistema):\n",
    "    for materia in sistema.materias:\n",
    "        print(f\"\\n📚 Materia: {materia.nombre} - Docente: {materia.docente}\")\n",
    "        for alumno in materia.alumnos:\n",
    "            print(f\"  - {alumno.get_nombre()} | Edad: {alumno.get_edad()} | Nota: {alumno.get_nota()} | \"\n",
    "                  f\"{alumno.obtener_calificacion()} | Vota: {'Sí' if alumno.puede_votar() else 'No'}\")\n",
    "\n",
    "\n",
    "# 👇 Aquí empieza la ejecución real\n",
    "if __name__ == \"__main__\":\n",
    "    sistema = SistemaAcademico()\n",
    "\n",
    "    # Crear materias\n",
    "    mate = sistema.crear_materia(\"Matemáticas\", 4, \"Profe Ana\")\n",
    "    prog = sistema.crear_materia(\"Programación\", 3, \"Profe Luis\")\n",
    "\n",
    "    # Crear alumnos\n",
    "    a1 = Alumno(\"123\", \"Carlos\", 20, 4.5)\n",
    "    a2 = Alumno(\"124\", \"Laura\", 17, 2.8)\n",
    "\n",
    "    # Asignar alumnos a materias\n",
    "    mate.asignar_alumno(a1)\n",
    "    prog.asignar_alumno(a1)\n",
    "    prog.asignar_alumno(a2)\n",
    "\n",
    "    # Ver materias y alumnos\n",
    "    sistema.ver_materias()\n",
    "    print(\"\\nAlumnos en Programación:\")\n",
    "    prog.listar_estudiantes()\n",
    "    mostrar_resumen(sistema)"
   ]
  },
  {
   "cell_type": "markdown",
   "metadata": {},
   "source": []
  }
 ],
 "metadata": {
  "language_info": {
   "name": "python"
  }
 },
 "nbformat": 4,
 "nbformat_minor": 2
}

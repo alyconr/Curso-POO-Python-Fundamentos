{
 "cells": [
  {
   "cell_type": "markdown",
   "metadata": {},
   "source": [
    "# PROYECTO MINI SISTEMA ACADEMICO CON POO\n",
    "\n",
    "## Objetivo\n",
    "\n",
    "Aplicar de forma integral los conceptos de clases, objetos, atributos, metodos, encapsulamiento y metodos especiales para crear un sistema simple de gestión de estudiantes, materias y calificaciones"
   ]
  },
  {
   "cell_type": "markdown",
   "metadata": {},
   "source": [
    "1. ETRUCTURA DEL SISTEMA\n",
    "\n",
    "| CLASE | ATRIBUTOS | MÉTODOS PRINCIPALES |\n",
    "|-------|-----------|-------------------|\n",
    "| Alumno | cedula, nombre, edad, nota | puede_votar(), obtener_calificacion() |\n",
    "| Materia | nombre, creditos, docente | asignar_alumno(), listar_estudiantes() |\n",
    "| Sistema | materias(lista) | crear_materia(), ver_materias() |"
   ]
  },
  {
   "cell_type": "markdown",
   "metadata": {},
   "source": [
    "2. Requisitos funcionales\n",
    "\n",
    "* Registrar alumnos y asignarlos a materias\n",
    "* Listar los estudiantes de una materia\n",
    "* Consultar si un alumno aprueba la materia\n",
    "* Simular si puede votar por su edad\n",
    "* Mostrar resumen por alumno y por materia"
   ]
  },
  {
   "cell_type": "markdown",
   "metadata": {},
   "source": [
    "## ENUNCIADO\n",
    "\n",
    "1. Define una clase ALumno con atributos privados y metodos públicos(get,set,__str__)\n",
    "2. Define una clase Materia que pueda contener multiples objetos Alumno\n",
    "3. Agrega funcionalidad para agregar alumnos a una materia\n",
    "4. Implementa una clase SistemaAcademico que administre múltiples materias\n",
    "5. Muestra toda la información de alumnos por materia"
   ]
  },
  {
   "cell_type": "code",
   "execution_count": null,
   "metadata": {},
   "outputs": [
    {
     "name": "stdout",
     "output_type": "stream",
     "text": [
      "\n",
      "Listado de Materias Registradas:\n",
      "- Matemáticas (Docente: Prof. Pérez, Créditos: 5)\n",
      "- Historia (Docente: Prof. Gómez, Créditos: 3)\n",
      "\n",
      "--- RESUMEN DEL SISTEMA ACADÉMICO ---\n",
      "\n",
      "Materia: Matemáticas - Docente: Prof. Pérez\n",
      "Estudiantes inscritos:\n",
      " - Ana Ruiz (C.I: 12345678, Edad: 19, Nota: 85, Estado: Aprobado, Vota: Sí)\n",
      " - Carlos Mora (C.I: 87654321, Edad: 17, Nota: 55, Estado: Reprobado, Vota: No)\n",
      "\n",
      "Materia: Historia - Docente: Prof. Gómez\n",
      "Estudiantes inscritos:\n",
      " - Luis Peña (C.I: 11223344, Edad: 20, Nota: 72, Estado: Aprobado, Vota: Sí)\n",
      " - Ana Ruiz (C.I: 12345678, Edad: 19, Nota: 85, Estado: Aprobado, Vota: Sí)\n"
     ]
    }
   ],
   "source": [
    "class Alumno:\n",
    "    def __init__(self, cedula, nombre, edad, nota):\n",
    "        self.__cedula = cedula\n",
    "        self.__nombre = nombre\n",
    "        self.__edad = edad\n",
    "        self.__nota = nota\n",
    "\n",
    "    def get_cedula(self):\n",
    "        return self.__cedula\n",
    "\n",
    "    def get_nombre(self):\n",
    "        return self.__nombre\n",
    "\n",
    "    def get_edad(self):\n",
    "        return self.__edad\n",
    "\n",
    "    def get_nota(self):\n",
    "        return self.__nota\n",
    "\n",
    "    def set_nota(self, nueva_nota):\n",
    "        self.__nota = nueva_nota\n",
    "\n",
    "    def puede_votar(self):\n",
    "        return self.__edad >= 18\n",
    "\n",
    "    def obtener_calificacion(self):\n",
    "        return \"Aprobado\" if self.__nota >= 60 else \"Reprobado\"\n",
    "\n",
    "    def __str__(self):\n",
    "        return f\"{self.__nombre} (C.I: {self.__cedula}, Edad: {self.__edad}, Nota: {self.__nota}, Estado: {self.obtener_calificacion()}, Vota: {'Sí' if self.puede_votar() else 'No'})\"\n",
    "\n",
    "class Materia:\n",
    "    def __init__(self, nombre, creditos, docente):\n",
    "        self.nombre = nombre\n",
    "        self.creditos = creditos\n",
    "        self.docente = docente\n",
    "        self.estudiantes = []\n",
    "\n",
    "    def asignar_alumno(self, alumno):\n",
    "        self.estudiantes.append(alumno)\n",
    "\n",
    "    def listar_estudiantes(self):\n",
    "        print(f\"\\nMateria: {self.nombre} - Docente: {self.docente}\")\n",
    "        print(\"Estudiantes inscritos:\")\n",
    "        for alumno in self.estudiantes:\n",
    "            print(f\" - {alumno}\")\n",
    "\n",
    "class SistemaAcademico:\n",
    "    def __init__(self):\n",
    "        self.materias = []\n",
    "\n",
    "    def crear_materia(self, nombre, creditos, docente):\n",
    "        materia = Materia(nombre, creditos, docente)\n",
    "        self.materias.append(materia)\n",
    "        return materia\n",
    "\n",
    "    def ver_materias(self):\n",
    "        print(\"\\nListado de Materias Registradas:\")\n",
    "        for materia in self.materias:\n",
    "            print(f\"- {materia.nombre} (Docente: {materia.docente}, Créditos: {materia.creditos})\")\n",
    "\n",
    "    def mostrar_resumen(self):\n",
    "        print(\"\\n--- RESUMEN DEL SISTEMA ACADÉMICO ---\")\n",
    "        for materia in self.materias:\n",
    "            materia.listar_estudiantes()\n",
    "\n",
    "if __name__ == \"__main__\":\n",
    "    sistema = SistemaAcademico()\n",
    "\n",
    "    mate = sistema.crear_materia(\"Matemáticas\", 5, \"Prof. Pérez\")\n",
    "    historia = sistema.crear_materia(\"Historia\", 3, \"Prof. Gómez\")\n",
    "\n",
    "    a1 = Alumno(\"12345678\", \"Ana Ruiz\", 19, 85)\n",
    "    a2 = Alumno(\"87654321\", \"Carlos Mora\", 17, 55)\n",
    "    a3 = Alumno(\"11223344\", \"Luis Peña\", 20, 72)\n",
    "\n",
    "    mate.asignar_alumno(a1)\n",
    "    mate.asignar_alumno(a2)\n",
    "    historia.asignar_alumno(a3)\n",
    "    historia.asignar_alumno(a1)\n",
    "\n",
    "    sistema.ver_materias()\n",
    "    sistema.mostrar_resumen()\n"
   ]
  }
 ],
 "metadata": {
  "kernelspec": {
   "display_name": "Python 3",
   "language": "python",
   "name": "python3"
  },
  "language_info": {
   "codemirror_mode": {
    "name": "ipython",
    "version": 3
   },
   "file_extension": ".py",
   "mimetype": "text/x-python",
   "name": "python",
   "nbconvert_exporter": "python",
   "pygments_lexer": "ipython3",
   "version": "3.13.3"
  }
 },
 "nbformat": 4,
 "nbformat_minor": 2
}

{
 "cells": [
  {
   "cell_type": "markdown",
   "metadata": {},
   "source": [
    "# PROYECTO MINI SISTEMA ACADEMICO CON POO\n",
    "\n",
    "## Objetivo\n",
    "\n",
    "Aplicar de forma integral los conceptos de clases, objetos, atributos, metodos, encapsulamiento y metodos especiales para crear un sistema simple de gestión de estudiantes, materias y calificaciones"
   ]
  },
  {
   "cell_type": "markdown",
   "metadata": {},
   "source": [
    "1. ETRUCTURA DEL SISTEMA\n",
    "\n",
    "| CLASE | ATRIBUTOS | MÉTODOS PRINCIPALES |\n",
    "|-------|-----------|-------------------|\n",
    "| Alumno | cedula, nombre, edad, nota | puede_votar(), obtener_calificacion() |\n",
    "| Materia | nombre, creditos, docente | asignar_alumno(), listar_estudiantes() |\n",
    "| Sistema | materias(lista) | crear_materia(), ver_materias() |"
   ]
  },
  {
   "cell_type": "markdown",
   "metadata": {},
   "source": [
    "2. Requisitos funcionales\n",
    "\n",
    "* Registrar alumnos y asignarlos a materias\n",
    "* Listar los estudiantes de una materia\n",
    "* Consultar si un alumno aprueba la materia\n",
    "* Simular si puede votar por su edad\n",
    "* Mostrar resumen por alumno y por materia"
   ]
  },
  {
   "cell_type": "markdown",
   "metadata": {},
   "source": [
    "## ENUNCIADO\n",
    "\n",
    "1. Define una clase ALumno con atributos privados y metodos públicos(get,set,__str__)\n",
    "2. Define una clase Materia que pueda contener multiples objetos Alumno\n",
    "3. Agrega funcionalidad para agregar alumnos a una materia\n",
    "4. Implementa una clase SistemaAcademico que administre múltiples materias\n",
    "5. Muestra toda la información de alumnos por materia"
   ]
  },
  {
   "cell_type": "markdown",
   "metadata": {},
   "source": []
  }
 ],
 "metadata": {
  "language_info": {
   "name": "python"
  }
 },
 "nbformat": 4,
 "nbformat_minor": 2
}

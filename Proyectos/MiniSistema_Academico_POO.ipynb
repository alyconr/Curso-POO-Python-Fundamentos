{
 "cells": [
  {
   "cell_type": "markdown",
   "metadata": {},
   "source": [
    "# PROYECTO MINI SISTEMA ACADEMICO CON POO\n",
    "\n",
    "## Objetivo\n",
    "\n",
    "Aplicar de forma integral los conceptos de clases, objetos, atributos, metodos, encapsulamiento y metodos especiales para crear un sistema simple de gestión de estudiantes, materias y calificaciones"
   ]
  },
  {
   "cell_type": "markdown",
   "metadata": {},
   "source": [
    "1. ETRUCTURA DEL SISTEMA\n",
    "\n",
    "| CLASE | ATRIBUTOS | MÉTODOS PRINCIPALES |\n",
    "|-------|-----------|-------------------|\n",
    "| Alumno | cedula, nombre, edad, nota | puede_votar(), obtener_calificacion() |\n",
    "| Materia | nombre, creditos, docente | asignar_alumno(), listar_estudiantes() |\n",
    "| Sistema | materias(lista) | crear_materia(), ver_materias() |"
   ]
  },
  {
   "cell_type": "markdown",
   "metadata": {},
   "source": [
    "2. Requisitos funcionales\n",
    "\n",
    "* Registrar alumnos y asignarlos a materias\n",
    "* Listar los estudiantes de una materia\n",
    "* Consultar si un alumno aprueba la materia\n",
    "* Simular si puede votar por su edad\n",
    "* Mostrar resumen por alumno y por materia"
   ]
  },
  {
   "cell_type": "markdown",
   "metadata": {},
   "source": [
    "## ENUNCIADO\n",
    "\n",
    "1. Define una clase ALumno con atributos privados y metodos públicos(get,set,__str__)\n",
    "2. Define una clase Materia que pueda contener multiples objetos Alumno\n",
    "3. Agrega funcionalidad para agregar alumnos a una materia\n",
    "4. Implementa una clase SistemaAcademico que administre múltiples materias\n",
    "5. Muestra toda la información de alumnos por materia"
   ]
  },
  {
   "cell_type": "code",
   "execution_count": 3,
   "metadata": {},
   "outputs": [
    {
     "name": "stdout",
     "output_type": "stream",
     "text": [
      "\n",
      "Resumen de materias:\n",
      "Materia: Filosofia, Créditos: 4, Docente: Profe Teresa, Estudiantes: 2\n",
      "Alumno: Charly Garcia, Cédula: 001, Edad: 15, Nota: 4.6, Estado: Aprobado\n",
      "Alumno: Luis Spinetta, Cédula: 002, Edad: 19, Nota: 3.8, Estado: Aprobado\n",
      "Materia: Teatro, Créditos: 3, Docente: Profe Rocio, Estudiantes: 1\n",
      "Alumno: Maria Yorio, Cédula: 003, Edad: 21, Nota: 2.5, Estado: Reprobado\n"
     ]
    }
   ],
   "source": [
    "# clase alumno\n",
    "class Alumno:\n",
    "    def __init__(self, cedula, nombre, edad, nota):\n",
    "        self.__cedula = cedula\n",
    "        self.__nombre = nombre\n",
    "        self.__edad = edad\n",
    "        self.__nota = nota\n",
    "\n",
    "    # Getters\n",
    "    def get_cedula(self):\n",
    "        return self.__cedula\n",
    "\n",
    "    def get_nombre(self):\n",
    "        return self.__nombre\n",
    "\n",
    "    def get_edad(self):\n",
    "        return self.__edad\n",
    "\n",
    "    def get_nota(self):\n",
    "        return self.__nota\n",
    "\n",
    "    # Setters\n",
    "    def set_nota(self, nueva_nota):\n",
    "        self.__nota = nueva_nota\n",
    "\n",
    "    # Métodos adicionales\n",
    "\n",
    "    # Consulta si puede votar o no  \n",
    "    def puede_votar(self):\n",
    "        return self.__edad >= 18\n",
    "\n",
    "    # Consulta si se aprueba o no la materia \n",
    "    def obtener_calificacion(self):\n",
    "        return \"Aprobado\" if self.__nota >= 3.0 else \"Reprobado\"\n",
    "\n",
    "    # Método que muestra la informacion del alumno \n",
    "    def __str__(self):\n",
    "        return f\"Alumno: {self.__nombre}, Cédula: {self.__cedula}, Edad: {self.__edad}, Nota: {self.__nota}, Estado: {self.obtener_calificacion()}\"\n",
    "\n",
    "# Clase materia que contiene objetos\n",
    "class Materia:\n",
    "    def __init__(self, nombre, creditos, docente):\n",
    "        self.nombre = nombre\n",
    "        self.creditos = creditos\n",
    "        self.docente = docente\n",
    "        self.estudiantes = []\n",
    "\n",
    "    def asignar_alumno(self, alumno):\n",
    "        self.estudiantes.append(alumno) \n",
    "\n",
    "    # Método que lista los estudiantes \n",
    "    def listar_estudiantes(self):\n",
    "        for alumno in self.estudiantes:\n",
    "            print(alumno)\n",
    "\n",
    "    # Método que muestra la información \n",
    "    def __str__(self):\n",
    "        return f\"Materia: {self.nombre}, Créditos: {self.creditos}, Docente: {self.docente}, Estudiantes: {len(self.estudiantes)}\"\n",
    "\n",
    "# Crea una clase que administrara las materias \n",
    "class SistemaAcademico:\n",
    "    def __init__(self):\n",
    "        self.materias = []\n",
    "\n",
    "    def crear_materia(self, nombre, creditos, docente):\n",
    "        nueva_materia = Materia(nombre, creditos, docente)\n",
    "        self.materias.append(nueva_materia)\n",
    "\n",
    "    def ver_materias(self):\n",
    "        print(\"\\nResumen de materias:\")\n",
    "        for materia in self.materias:\n",
    "            print(materia)\n",
    "            materia.listar_estudiantes()\n",
    "\n",
    "# Crear sistema\n",
    "sistema = SistemaAcademico()\n",
    "\n",
    "# Crear materias\n",
    "sistema.crear_materia(\"Filosofia\", 4, \"Profe Teresa\")\n",
    "sistema.crear_materia(\"Teatro\", 3, \"Profe Rocio\")\n",
    "\n",
    "# Registrar alumnos\n",
    "a1 = Alumno(\"001\", \"Charly Garcia\", 15, 4.6)\n",
    "a2 = Alumno(\"002\", \"Luis Spinetta\", 19, 3.8)\n",
    "a3 = Alumno(\"003\", \"Maria Yorio\", 21, 2.5)\n",
    "\n",
    "# Asignar los alumnos a la materia\n",
    "sistema.materias[0].asignar_alumno(a1)\n",
    "sistema.materias[0].asignar_alumno(a2)\n",
    "sistema.materias[1].asignar_alumno(a3)\n",
    "\n",
    "# Ver materias y estudiantes\n",
    "sistema.ver_materias()\n"
   ]
  }
 ],
 "metadata": {
  "kernelspec": {
   "display_name": "Python 3",
   "language": "python",
   "name": "python3"
  },
  "language_info": {
   "codemirror_mode": {
    "name": "ipython",
    "version": 3
   },
   "file_extension": ".py",
   "mimetype": "text/x-python",
   "name": "python",
   "nbconvert_exporter": "python",
   "pygments_lexer": "ipython3",
   "version": "3.13.2"
  }
 },
 "nbformat": 4,
 "nbformat_minor": 2
}

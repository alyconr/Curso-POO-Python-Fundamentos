{
 "cells": [
  {
   "cell_type": "markdown",
   "metadata": {},
   "source": [
    "# PROYECTO MINI SISTEMA ACADEMICO CON POO\n",
    "\n",
    "## Objetivo\n",
    "\n",
    "Aplicar de forma integral los conceptos de clases, objetos, atributos, metodos, encapsulamiento y metodos especiales para crear un sistema simple de gestión de estudiantes, materias y calificaciones"
   ]
  },
  {
   "cell_type": "markdown",
   "metadata": {},
   "source": [
    "1. ETRUCTURA DEL SISTEMA\n",
    "\n",
    "| CLASE | ATRIBUTOS | MÉTODOS PRINCIPALES |\n",
    "|-------|-----------|-------------------|\n",
    "| Alumno | cedula, nombre, edad, nota | puede_votar(), obtener_calificacion() |\n",
    "| Materia | nombre, creditos, docente | asignar_alumno(), listar_estudiantes() |\n",
    "| Sistema | materias(lista) | crear_materia(), ver_materias() |"
   ]
  },
  {
   "cell_type": "markdown",
   "metadata": {},
   "source": [
    "2. Requisitos funcionales\n",
    "\n",
    "* Registrar alumnos y asignarlos a materias\n",
    "* Listar los estudiantes de una materia\n",
    "* Consultar si un alumno aprueba la materia\n",
    "* Simular si puede votar por su edad\n",
    "* Mostrar resumen por alumno y por materia"
   ]
  },
  {
   "cell_type": "markdown",
   "metadata": {},
   "source": [
    "## ENUNCIADO\n",
    "\n",
    "1. Define una clase ALumno con atributos privados y metodos públicos(get,set,__str__)\n",
    "2. Define una clase Materia que pueda contener multiples objetos Alumno\n",
    "3. Agrega funcionalidad para agregar alumnos a una materia\n",
    "4. Implementa una clase SistemaAcademico que administre múltiples materias\n",
    "5. Muestra toda la información de alumnos por materia"
   ]
  },
  {
   "cell_type": "markdown",
   "metadata": {},
   "source": []
  },
  {
   "cell_type": "code",
   "execution_count": 2,
   "metadata": {},
   "outputs": [
    {
     "name": "stdout",
     "output_type": "stream",
     "text": [
      "\n",
      "📚 Materias Registradas:\n",
      "1. Matemáticas (4 créditos) - Docente: Juan Pérez\n",
      "2. Historia (3 créditos) - Docente: Ana Torres\n",
      "\n",
      "📋 Resumen del Sistema Académico\n",
      "\n",
      "📘 Materia: Matemáticas | Docente: Juan Pérez\n",
      " - Nombre: Carlos Ruiz, Cédula: 123, Edad: 20, Nota: 4.5, Calificación: Aprobado, ¿Puede votar?: Sí\n",
      " - Nombre: Lucía Gómez, Cédula: 456, Edad: 17, Nota: 2.8, Calificación: Reprobado, ¿Puede votar?: No\n",
      "\n",
      "📘 Materia: Historia | Docente: Ana Torres\n",
      " - Nombre: Mario Díaz, Cédula: 789, Edad: 18, Nota: 3.2, Calificación: Aprobado, ¿Puede votar?: Sí\n"
     ]
    }
   ],
   "source": [
    "class Alumno:\n",
    "    def __init__(self, cedula, nombre, edad, nota):\n",
    "        self.__cedula = cedula\n",
    "        self.__nombre = nombre\n",
    "        self.__edad = edad\n",
    "        self.__nota = nota\n",
    "\n",
    "    def get_cedula(self):\n",
    "        return self.__cedula\n",
    "\n",
    "    def get_nombre(self):\n",
    "        return self.__nombre\n",
    "\n",
    "    def get_edad(self):\n",
    "        return self.__edad\n",
    "\n",
    "    def get_nota(self):\n",
    "        return self.__nota\n",
    "\n",
    "    def set_nota(self, nota):\n",
    "        self.__nota = nota\n",
    "\n",
    "    def puede_votar(self):\n",
    "        return self.__edad >= 18\n",
    "\n",
    "    def obtener_calificacion(self):\n",
    "        return \"Aprobado\" if self.__nota >= 3.0 else \"Reprobado\"\n",
    "\n",
    "    def __str__(self):\n",
    "        return (f\"Nombre: {self.__nombre}, Cédula: {self.__cedula}, Edad: {self.__edad}, \"\n",
    "                f\"Nota: {self.__nota}, Calificación: {self.obtener_calificacion()}, \"\n",
    "                f\"¿Puede votar?: {'Sí' if self.puede_votar() else 'No'}\")\n",
    "\n",
    "\n",
    "class Materia:\n",
    "    def __init__(self, nombre, creditos, docente):\n",
    "        self.nombre = nombre\n",
    "        self.creditos = creditos\n",
    "        self.docente = docente\n",
    "        self.alumnos = []\n",
    "\n",
    "    def asignar_alumno(self, alumno):\n",
    "        if isinstance(alumno, Alumno):\n",
    "            self.alumnos.append(alumno)\n",
    "\n",
    "    def listar_estudiantes(self):\n",
    "        print(f\"\\n📘 Materia: {self.nombre} | Docente: {self.docente}\")\n",
    "        for alumno in self.alumnos:\n",
    "            print(f\" - {alumno}\")\n",
    "\n",
    "    def __str__(self):\n",
    "        return f\"{self.nombre} ({self.creditos} créditos) - Docente: {self.docente}\"\n",
    "\n",
    "\n",
    "class SistemaAcademico:\n",
    "    def __init__(self):\n",
    "        self.materias = []\n",
    "\n",
    "    def crear_materia(self, nombre, creditos, docente):\n",
    "        materia = Materia(nombre, creditos, docente)\n",
    "        self.materias.append(materia)\n",
    "\n",
    "    def ver_materias(self):\n",
    "        print(\"\\n📚 Materias Registradas:\")\n",
    "        for i, materia in enumerate(self.materias, 1):\n",
    "            print(f\"{i}. {materia}\")\n",
    "\n",
    "    def mostrar_resumen(self):\n",
    "        print(\"\\n📋 Resumen del Sistema Académico\")\n",
    "        for materia in self.materias:\n",
    "            materia.listar_estudiantes()\n",
    "\n",
    "\n",
    "# BLOQUE PRINCIPAL PARA EJECUTAR EN TERMINAL\n",
    "if __name__ == \"__main__\":\n",
    "    sistema = SistemaAcademico()\n",
    "\n",
    "    # Crear materias\n",
    "    sistema.crear_materia(\"Matemáticas\", 4, \"Juan Pérez\")\n",
    "    sistema.crear_materia(\"Historia\", 3, \"Ana Torres\")\n",
    "\n",
    "    # Crear alumnos\n",
    "    alumno1 = Alumno(\"123\", \"Carlos Ruiz\", 20, 4.5)\n",
    "    alumno2 = Alumno(\"456\", \"Lucía Gómez\", 17, 2.8)\n",
    "    alumno3 = Alumno(\"789\", \"Mario Díaz\", 18, 3.2)\n",
    "\n",
    "    # Asignar alumnos a materias\n",
    "    sistema.materias[0].asignar_alumno(alumno1)\n",
    "    sistema.materias[0].asignar_alumno(alumno2)\n",
    "    sistema.materias[1].asignar_alumno(alumno3)\n",
    "\n",
    "    # Mostrar todas las materias\n",
    "    sistema.ver_materias()\n",
    "\n",
    "    # Mostrar resumen por materia y alumno\n",
    "    sistema.mostrar_resumen()\n"
   ]
  }
 ],
 "metadata": {
  "kernelspec": {
   "display_name": "Python 3",
   "language": "python",
   "name": "python3"
  },
  "language_info": {
   "codemirror_mode": {
    "name": "ipython",
    "version": 3
   },
   "file_extension": ".py",
   "mimetype": "text/x-python",
   "name": "python",
   "nbconvert_exporter": "python",
   "pygments_lexer": "ipython3",
   "version": "3.13.5"
  }
 },
 "nbformat": 4,
 "nbformat_minor": 2
}

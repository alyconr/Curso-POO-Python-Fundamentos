{
 "cells": [
  {
   "cell_type": "markdown",
   "metadata": {},
   "source": [
    "# PROYECTO MINI SISTEMA ACADEMICO CON POO\n",
    "\n",
    "## Objetivo\n",
    "\n",
    "Aplicar de forma integral los conceptos de clases, objetos, atributos, metodos, encapsulamiento y metodos especiales para crear un sistema simple de gestión de estudiantes, materias y calificaciones"
   ]
  },
  {
   "cell_type": "markdown",
   "metadata": {},
   "source": [
    "1. ETRUCTURA DEL SISTEMA\n",
    "\n",
    "| CLASE | ATRIBUTOS | MÉTODOS PRINCIPALES |\n",
    "|-------|-----------|-------------------|\n",
    "| Alumno | cedula, nombre, edad, nota | puede_votar(), obtener_calificacion() |\n",
    "| Materia | nombre, creditos, docente | asignar_alumno(), listar_estudiantes() |\n",
    "| Sistema | materias(lista) | crear_materia(), ver_materias() |"
   ]
  },
  {
   "cell_type": "markdown",
   "metadata": {},
   "source": [
    "2. Requisitos funcionales\n",
    "\n",
    "* Registrar alumnos y asignarlos a materias\n",
    "* Listar los estudiantes de una materia\n",
    "* Consultar si un alumno aprueba la materia\n",
    "* Simular si puede votar por su edad\n",
    "* Mostrar resumen por alumno y por materia"
   ]
  },
  {
   "cell_type": "markdown",
   "metadata": {},
   "source": [
    "## ENUNCIADO\n",
    "\n",
    "1. Define una clase ALumno con atributos privados y metodos públicos(get,set,__str__)\n",
    "2. Define una clase Materia que pueda contener multiples objetos Alumno\n",
    "3. Agrega funcionalidad para agregar alumnos a una materia\n",
    "4. Implementa una clase SistemaAcademico que administre múltiples materias\n",
    "5. Muestra toda la información de alumnos por materia"
   ]
  },
  {
   "cell_type": "code",
   "execution_count": null,
   "metadata": {},
   "outputs": [
    {
     "name": "stdout",
     "output_type": "stream",
     "text": [
      "\n",
      "Materia: Matemáticas (Créditos: 4) - Docente: Prof. Ramírez\n",
      "  - Luis Pérez (12345678) - Edad: 20, Nota: 4.2\n",
      "    Calificación: Aprobado\n",
      "    Puede votar: Sí\n",
      "  - María Gómez (87654321) - Edad: 17, Nota: 2.0\n",
      "    Calificación: Reprobado\n",
      "    Puede votar: No\n",
      "\n",
      "Materia: Lengua (Créditos: 3) - Docente: Prof. Sánchez\n",
      "  - Ana Torres (45678901) - Edad: 19, Nota: 3.5\n",
      "    Calificación: Aprobado\n",
      "    Puede votar: Sí\n",
      "  - Luis Pérez (12345678) - Edad: 20, Nota: 4.2\n",
      "    Calificación: Aprobado\n",
      "    Puede votar: Sí\n"
     ]
    }
   ],
   "source": [
    "class Alumno:\n",
    "    def __init__(self, cedula, nombre, edad, nota):\n",
    "        self.__cedula = cedula\n",
    "        self.__nombre = nombre\n",
    "        self.__edad = edad\n",
    "        self.__nota = nota\n",
    "\n",
    "    def get_cedula(self):\n",
    "        return self.__cedula\n",
    "\n",
    "    def get_nombre(self):\n",
    "        return self.__nombre\n",
    "\n",
    "    def get_edad(self):\n",
    "        return self.__edad\n",
    "\n",
    "    def get_nota(self):\n",
    "        return self.__nota\n",
    "\n",
    "    def set_nota(self, nota):\n",
    "        self.__nota = nota\n",
    "\n",
    "    def puede_votar(self):\n",
    "        return self.__edad >= 18\n",
    "\n",
    "    def obtener_calificacion(self):\n",
    "        return \"Aprobado\" if self.__nota >= 3.0 else \"Reprobado\"\n",
    "\n",
    "    def __str__(self):\n",
    "        return f\"{self.__nombre} ({self.__cedula}) - Edad: {self.__edad}, Nota: {self.__nota}\"\n",
    "\n",
    "\n",
    "class Materia:\n",
    "    def __init__(self, nombre, creditos, docente):\n",
    "        self.nombre = nombre\n",
    "        self.creditos = creditos\n",
    "        self.docente = docente\n",
    "        self.alumnos = []\n",
    "\n",
    "    def asignar_alumno(self, alumno):\n",
    "        self.alumnos.append(alumno)\n",
    "\n",
    "    def listar_estudiantes(self):\n",
    "        for alumno in self.alumnos:\n",
    "            print(alumno)\n",
    "\n",
    "    def __str__(self):\n",
    "        return f\"{self.nombre} (Créditos: {self.creditos}) - Docente: {self.docente}\"\n",
    "\n",
    "\n",
    "class SistemaAcademico:\n",
    "    def __init__(self):\n",
    "        self.materias = []\n",
    "\n",
    "    def crear_materia(self, nombre, creditos, docente):\n",
    "        materia = Materia(nombre, creditos, docente)\n",
    "        self.materias.append(materia)\n",
    "\n",
    "    def ver_materias(self):\n",
    "        for i, materia in enumerate(self.materias):\n",
    "            print(f\"{i + 1}. {materia}\")\n",
    "\n",
    "    def mostrar_resumen(self):\n",
    "        for materia in self.materias:\n",
    "            print(f\"\\nMateria: {materia}\")\n",
    "            for alumno in materia.alumnos:\n",
    "                print(f\"  - {alumno}\")\n",
    "                print(f\"    Calificación: {alumno.obtener_calificacion()}\")\n",
    "                print(f\"    Puede votar: {'Sí' if alumno.puede_votar() else 'No'}\")\n",
    "\n",
    "\n",
    "sistema = SistemaAcademico()\n",
    "\n",
    "sistema.crear_materia(\"Matemáticas\", 4, \"Prof. Ramírez\")\n",
    "sistema.crear_materia(\"Lengua\", 3, \"Prof. Sánchez\")\n",
    "\n",
    "a1 = Alumno(\"12345678\", \"Luis Pérez\", 20, 4.2)  \n",
    "a2 = Alumno(\"87654321\", \"María Gómez\", 17, 2.0)  \n",
    "a3 = Alumno(\"45678901\", \"Ana Torres\", 19, 3.5)  \n",
    "\n",
    "sistema.materias[0].asignar_alumno(a1)\n",
    "sistema.materias[0].asignar_alumno(a2)\n",
    "sistema.materias[1].asignar_alumno(a3)\n",
    "sistema.materias[1].asignar_alumno(a1)  \n",
    "\n",
    "sistema.mostrar_resumen()\n"
   ]
  },
  {
   "cell_type": "markdown",
   "metadata": {},
   "source": []
  }
 ],
 "metadata": {
  "kernelspec": {
   "display_name": "Python 3",
   "language": "python",
   "name": "python3"
  },
  "language_info": {
   "codemirror_mode": {
    "name": "ipython",
    "version": 3
   },
   "file_extension": ".py",
   "mimetype": "text/x-python",
   "name": "python",
   "nbconvert_exporter": "python",
   "pygments_lexer": "ipython3",
   "version": "3.10.0"
  }
 },
 "nbformat": 4,
 "nbformat_minor": 2
}
